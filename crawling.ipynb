{
 "cells": [
  {
   "cell_type": "code",
   "execution_count": 1,
   "id": "e6b579dc",
   "metadata": {},
   "outputs": [],
   "source": [
    "import os\n",
    "import urllib\n",
    "from urllib.request import urlopen\n",
    "from urllib.parse import quote_plus\n",
    "from bs4 import BeautifulSoup\n",
    "from selenium.webdriver.common.by import By\n",
    "\n",
    "from selenium import webdriver\n",
    "from selenium.webdriver.common.keys import Keys  \n",
    "# 웹 애플리케이션의 테스트를 자동화하기 위한 프레임 워크\n",
    "# 손으로 마우스 클릭해서 데이터를 검색하고 스크롤링 할 수 있다\n",
    "\n",
    "from webdriver_manager.chrome import ChromeDriverManager\n",
    "import time\n",
    "# 중간마다 sleep를 걸어야 한다.\n"
   ]
  },
  {
   "cell_type": "code",
   "execution_count": 2,
   "id": "7a15419c-4d6f-4667-8955-9361869339ec",
   "metadata": {},
   "outputs": [
    {
     "data": {
      "text/plain": [
       "'/Users/kang/VSCodeProjects/food-classifier-image-crawling'"
      ]
     },
     "execution_count": 2,
     "metadata": {},
     "output_type": "execute_result"
    }
   ],
   "source": [
    "start_dir = os.getcwd()\n",
    "start_dir"
   ]
  },
  {
   "cell_type": "code",
   "execution_count": null,
   "id": "ce4f9fa1-ed1d-4a2b-81be-f17df1cd3d32",
   "metadata": {},
   "outputs": [],
   "source": [
    "# 초기 설정 값\n",
    "\n",
    "# 스크롤 하고 로딩 기다리는 시간 (초)\n",
    "SCROLL_PAUSE_SEC = 2"
   ]
  },
  {
   "cell_type": "code",
   "execution_count": 3,
   "id": "63f87c15-6c47-444b-894f-a95cb2082aeb",
   "metadata": {},
   "outputs": [
    {
     "name": "stdout",
     "output_type": "stream",
     "text": [
      "\n"
     ]
    },
    {
     "name": "stderr",
     "output_type": "stream",
     "text": [
      "[WDM] - ====== WebDriver manager ======\n"
     ]
    },
    {
     "name": "stdout",
     "output_type": "stream",
     "text": [
      "2022-07-07 00:50:10,739 INFO ====== WebDriver manager ======\n"
     ]
    },
    {
     "name": "stderr",
     "output_type": "stream",
     "text": [
      "[WDM] - Current google-chrome version is 103.0.5060\n"
     ]
    },
    {
     "name": "stdout",
     "output_type": "stream",
     "text": [
      "2022-07-07 00:50:10,791 INFO Current google-chrome version is 103.0.5060\n"
     ]
    },
    {
     "name": "stderr",
     "output_type": "stream",
     "text": [
      "[WDM] - Get LATEST chromedriver version for 103.0.5060 google-chrome\n"
     ]
    },
    {
     "name": "stdout",
     "output_type": "stream",
     "text": [
      "2022-07-07 00:50:10,792 INFO Get LATEST chromedriver version for 103.0.5060 google-chrome\n"
     ]
    },
    {
     "name": "stderr",
     "output_type": "stream",
     "text": [
      "[WDM] - About to download new driver from https://chromedriver.storage.googleapis.com/103.0.5060.53/chromedriver_mac64_m1.zip\n"
     ]
    },
    {
     "name": "stdout",
     "output_type": "stream",
     "text": [
      "2022-07-07 00:50:11,282 INFO About to download new driver from https://chromedriver.storage.googleapis.com/103.0.5060.53/chromedriver_mac64_m1.zip\n"
     ]
    },
    {
     "name": "stderr",
     "output_type": "stream",
     "text": [
      "[WDM] - Driver has been saved in cache [/Users/kang/.wdm/drivers/chromedriver/mac64_m1/103.0.5060.53]\n"
     ]
    },
    {
     "name": "stdout",
     "output_type": "stream",
     "text": [
      "2022-07-07 00:50:15,785 INFO Driver has been saved in cache [/Users/kang/.wdm/drivers/chromedriver/mac64_m1/103.0.5060.53]\n"
     ]
    }
   ],
   "source": [
    "driver = webdriver.Chrome(ChromeDriverManager().install())"
   ]
  },
  {
   "cell_type": "code",
   "execution_count": 17,
   "id": "bd5312d2",
   "metadata": {},
   "outputs": [],
   "source": [
    "def download_images_with_keyword(keyword : str):\n",
    "    # 최대 1분, 혹은 스크롤이 맨 아래까지 갈 때까지 아래로 스크롤\n",
    "    try:\n",
    "        scroll_down()\n",
    "    except:\n",
    "        pass\n",
    "    \n",
    "    # url만들기\n",
    "    base_url = \"https://search.naver.com/search.naver?where=image&sm=tab_jum&query=\"\n",
    "    target_url = base_url + quote_plus(keyword)\n",
    "\n",
    "    # driver가 target_url을 열도록 함\n",
    "    driver.get(target_url)\n",
    "\n",
    "    time.sleep(2)\n",
    "    elems = driver.find_elements(By.CLASS_NAME, \"_image._listImage\")\n",
    "    \n",
    "    time.sleep(2)\n",
    "    # elems은 이미지 다운로드할 수 있는 elements이 담긴 리스트\n",
    "    \n",
    "    # keyword와 같은 이름의 폴더를 만든다, pass는 이미 있는 경우를 위한거\n",
    "    try:\n",
    "        os.mkdir(keyword)\n",
    "    except:\n",
    "        pass\n",
    "    \n",
    "    #만든 폴더로 작업 디렉토리를 옮긴다\n",
    "    os.chdir(keyword)\n",
    "    \n",
    "    n = 0\n",
    "    for element in elems:\n",
    "        \n",
    "        n += 1\n",
    "        # element의 src 속성을 src_url에 저장\n",
    "        src_url = element.get_attribute(\"src\")\n",
    "        \n",
    "        # 그 url에서 다운로드 받는다, n은 몇 번째 사진인지\n",
    "        urllib.request.urlretrieve(src_url, f\"{keyword}_{n}\")\n",
    "        time.sleep(2)\n",
    "    os.chdir(start_dir)\n",
    "    return 0\n",
    "    "
   ]
  },
  {
   "cell_type": "code",
   "execution_count": 18,
   "id": "311b3ee5-8dd8-4bdf-8e59-4267cd1680a0",
   "metadata": {},
   "outputs": [],
   "source": [
    "def scroll_down():\n",
    "    start_time = time.time()\n",
    "    SCROLL_PAUSE_SEC = 2\n",
    "\n",
    "    # 스크롤 높이 가져옴\n",
    "    last_height = driver.execute_script(\"return document.body.scrollHeight\")\n",
    "\n",
    "    while True:\n",
    "        spent_time = time.time() - start_time()\n",
    "        if (spent_time > 60):\n",
    "            break\n",
    "            \n",
    "        # 끝까지 스크롤 다운\n",
    "        driver.execute_script(\"window.scrollTo(0, document.body.scrollHeight);\")\n",
    "\n",
    "        # 1초 대기\n",
    "        time.sleep(SCROLL_PAUSE_SEC)\n",
    "\n",
    "        # 스크롤 다운 후 스크롤 높이 다시 가져옴\n",
    "        new_height = driver.execute_script(\"return document.body.scrollHeight\")\n",
    "        if new_height == last_height:\n",
    "            break\n",
    "        last_height = new_height"
   ]
  },
  {
   "cell_type": "code",
   "execution_count": 19,
   "id": "c5facafe-28d2-4184-bceb-a7185aef6693",
   "metadata": {},
   "outputs": [
    {
     "ename": "KeyboardInterrupt",
     "evalue": "",
     "output_type": "error",
     "traceback": [
      "\u001b[0;31m---------------------------------------------------------------------------\u001b[0m",
      "\u001b[0;31mKeyboardInterrupt\u001b[0m                         Traceback (most recent call last)",
      "Input \u001b[0;32mIn [19]\u001b[0m, in \u001b[0;36m<cell line: 1>\u001b[0;34m()\u001b[0m\n\u001b[0;32m----> 1\u001b[0m \u001b[43mdownload_images_with_keyword\u001b[49m\u001b[43m(\u001b[49m\u001b[38;5;124;43m\"\u001b[39;49m\u001b[38;5;124;43m바나나\u001b[39;49m\u001b[38;5;124;43m\"\u001b[39;49m\u001b[43m)\u001b[49m\n",
      "Input \u001b[0;32mIn [17]\u001b[0m, in \u001b[0;36mdownload_images_with_keyword\u001b[0;34m(keyword)\u001b[0m\n\u001b[1;32m     37\u001b[0m     \u001b[38;5;66;03m# 그 url에서 다운로드 받는다, n은 몇 번째 사진인지\u001b[39;00m\n\u001b[1;32m     38\u001b[0m     urllib\u001b[38;5;241m.\u001b[39mrequest\u001b[38;5;241m.\u001b[39murlretrieve(src_url, \u001b[38;5;124mf\u001b[39m\u001b[38;5;124m\"\u001b[39m\u001b[38;5;132;01m{\u001b[39;00mkeyword\u001b[38;5;132;01m}\u001b[39;00m\u001b[38;5;124m_\u001b[39m\u001b[38;5;132;01m{\u001b[39;00mn\u001b[38;5;132;01m}\u001b[39;00m\u001b[38;5;124m\"\u001b[39m)\n\u001b[0;32m---> 39\u001b[0m     \u001b[43mtime\u001b[49m\u001b[38;5;241;43m.\u001b[39;49m\u001b[43msleep\u001b[49m\u001b[43m(\u001b[49m\u001b[38;5;241;43m2\u001b[39;49m\u001b[43m)\u001b[49m\n\u001b[1;32m     40\u001b[0m os\u001b[38;5;241m.\u001b[39mchdir(start_dir)\n\u001b[1;32m     41\u001b[0m \u001b[38;5;28;01mreturn\u001b[39;00m \u001b[38;5;241m0\u001b[39m\n",
      "\u001b[0;31mKeyboardInterrupt\u001b[0m: "
     ]
    }
   ],
   "source": [
    "download_images_with_keyword(\"바나나\")"
   ]
  },
  {
   "cell_type": "code",
   "execution_count": null,
   "id": "d99f7de7-7bec-48f6-830a-60206f2c2cea",
   "metadata": {},
   "outputs": [],
   "source": []
  }
 ],
 "metadata": {
  "kernelspec": {
   "display_name": "Python 3 (ipykernel)",
   "language": "python",
   "name": "python3"
  },
  "language_info": {
   "codemirror_mode": {
    "name": "ipython",
    "version": 3
   },
   "file_extension": ".py",
   "mimetype": "text/x-python",
   "name": "python",
   "nbconvert_exporter": "python",
   "pygments_lexer": "ipython3",
   "version": "3.9.12"
  }
 },
 "nbformat": 4,
 "nbformat_minor": 5
}
